{
 "cells": [
  {
   "cell_type": "code",
   "execution_count": 1,
   "metadata": {},
   "outputs": [],
   "source": [
    "import tensorflow as tf"
   ]
  },
  {
   "cell_type": "code",
   "execution_count": 2,
   "metadata": {},
   "outputs": [],
   "source": [
    "# GPU test\n",
    "if tf.test.is_gpu_available():\n",
    "    print(\"GPU is available on this device:\")"
   ]
  },
  {
   "cell_type": "code",
   "execution_count": 3,
   "metadata": {},
   "outputs": [],
   "source": [
    "x = tf.random_uniform([3, 3])\n",
    "if x.device.endswith('GPU:0'):\n",
    "    print(\"Tensor is currently running on GPU. \")"
   ]
  },
  {
   "cell_type": "code",
   "execution_count": 4,
   "metadata": {},
   "outputs": [
    {
     "name": "stdout",
     "output_type": "stream",
     "text": [
      "Tensor is currently running on CPU. \n"
     ]
    }
   ],
   "source": [
    "# Forced execution on CPU\n",
    "with tf.device(\"CPU:0\"):\n",
    "  x1 = tf.random_uniform([4, 4])\n",
    "  assert x1.device.endswith(\"CPU:0\")\n",
    "if x1.device.endswith('CPU:0'):\n",
    "    print(\"Tensor is currently running on CPU. \")"
   ]
  },
  {
   "cell_type": "code",
   "execution_count": 5,
   "metadata": {},
   "outputs": [],
   "source": [
    "# Forced execution on GPU #0 if available\n",
    "if tf.test.is_gpu_available():\n",
    "  with tf.device(\"GPU:0\"):\n",
    "    x2 = tf.random_uniform([4, 4])"
   ]
  }
 ],
 "metadata": {
  "kernelspec": {
   "display_name": "Python 3",
   "language": "python",
   "name": "python3"
  },
  "language_info": {
   "codemirror_mode": {
    "name": "ipython",
    "version": 3
   },
   "file_extension": ".py",
   "mimetype": "text/x-python",
   "name": "python",
   "nbconvert_exporter": "python",
   "pygments_lexer": "ipython3",
   "version": "3.5.5"
  }
 },
 "nbformat": 4,
 "nbformat_minor": 2
}
