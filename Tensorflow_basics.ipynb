{
 "cells": [
  {
   "cell_type": "code",
   "execution_count": 1,
   "metadata": {
    "colab": {},
    "colab_type": "code",
    "id": "N91jyBwx4qOG"
   },
   "outputs": [],
   "source": [
    "import tensorflow as tf"
   ]
  },
  {
   "cell_type": "code",
   "execution_count": 2,
   "metadata": {
    "colab": {
     "base_uri": "https://localhost:8080/",
     "height": 202
    },
    "colab_type": "code",
    "id": "hl8I1d5FLUrc",
    "outputId": "6da59240-e430-44e1-a78b-34f26c752cf3"
   },
   "outputs": [
    {
     "name": "stdout",
     "output_type": "stream",
     "text": [
      "The matrix of ones is: \n",
      " [[1 1 1 1 1 1 1 1 1 1]\n",
      " [1 1 1 1 1 1 1 1 1 1]\n",
      " [1 1 1 1 1 1 1 1 1 1]\n",
      " [1 1 1 1 1 1 1 1 1 1]\n",
      " [1 1 1 1 1 1 1 1 1 1]\n",
      " [1 1 1 1 1 1 1 1 1 1]\n",
      " [1 1 1 1 1 1 1 1 1 1]\n",
      " [1 1 1 1 1 1 1 1 1 1]\n",
      " [1 1 1 1 1 1 1 1 1 1]\n",
      " [1 1 1 1 1 1 1 1 1 1]]\n",
      "\n",
      " The trace of this matrix is 10.\n"
     ]
    }
   ],
   "source": [
    "x1 = tf.ones((10, 10))\n",
    "x1 = tf.to_int32(x1)\n",
    "with tf.Session() as sess:\n",
    "  print(\"The matrix of ones is: \\n {}\" .format(sess.run(x1)))\n",
    "  print(\"\\n The trace of this matrix is {}.\".format(sess.run(tf.trace(x1))))"
   ]
  },
  {
   "cell_type": "code",
   "execution_count": 3,
   "metadata": {
    "colab": {
     "base_uri": "https://localhost:8080/",
     "height": 50
    },
    "colab_type": "code",
    "id": "575tc2AEhRp5",
    "outputId": "41a065f5-3d49-43b6-cab2-76eb200e80ea"
   },
   "outputs": [
    {
     "name": "stdout",
     "output_type": "stream",
     "text": [
      "(10, 10)\n",
      "<dtype: 'int32'>\n"
     ]
    }
   ],
   "source": [
    "print(x1.shape)\n",
    "print(x1.dtype)"
   ]
  },
  {
   "cell_type": "code",
   "execution_count": 4,
   "metadata": {
    "colab": {
     "base_uri": "https://localhost:8080/",
     "height": 202
    },
    "colab_type": "code",
    "id": "JfM3lVBVcGiR",
    "outputId": "6c6339a1-fb10-4536-d725-cb46c4fa20fa"
   },
   "outputs": [
    {
     "name": "stdout",
     "output_type": "stream",
     "text": [
      "The matrix of zeros is: \n",
      " [[0 0 0 0 0 0 0 0 0 0]\n",
      " [0 0 0 0 0 0 0 0 0 0]\n",
      " [0 0 0 0 0 0 0 0 0 0]\n",
      " [0 0 0 0 0 0 0 0 0 0]\n",
      " [0 0 0 0 0 0 0 0 0 0]\n",
      " [0 0 0 0 0 0 0 0 0 0]\n",
      " [0 0 0 0 0 0 0 0 0 0]\n",
      " [0 0 0 0 0 0 0 0 0 0]\n",
      " [0 0 0 0 0 0 0 0 0 0]\n",
      " [0 0 0 0 0 0 0 0 0 0]]\n",
      "\n",
      " The trace of this matrix is 0.\n"
     ]
    }
   ],
   "source": [
    "x2 = tf.zeros((10, 10))\n",
    "x2 = tf.to_int32(x2) \n",
    "with tf.Session() as sess:\n",
    "  print(\"The matrix of zeros is: \\n {}\" .format(sess.run(x2)))\n",
    "  print(\"\\n The trace of this matrix is {}.\".format(sess.run(tf.trace(x2))))"
   ]
  },
  {
   "cell_type": "code",
   "execution_count": 5,
   "metadata": {
    "colab": {
     "base_uri": "https://localhost:8080/",
     "height": 50
    },
    "colab_type": "code",
    "id": "-exN8Ab8hlIR",
    "outputId": "2eee7756-7c0d-4962-f63d-94b02db8a780"
   },
   "outputs": [
    {
     "name": "stdout",
     "output_type": "stream",
     "text": [
      "(10, 10)\n",
      "<dtype: 'int32'>\n"
     ]
    }
   ],
   "source": [
    "print(x2.shape)\n",
    "print(x2.dtype)"
   ]
  },
  {
   "cell_type": "code",
   "execution_count": 6,
   "metadata": {
    "colab": {
     "base_uri": "https://localhost:8080/",
     "height": 202
    },
    "colab_type": "code",
    "id": "5wrp5vSEcUss",
    "outputId": "cf4eb538-d803-4891-b932-44106a15bed8"
   },
   "outputs": [
    {
     "name": "stdout",
     "output_type": "stream",
     "text": [
      "The matrix fill with 8 is: \n",
      " [[8 8 8 8 8 8 8 8 8 8]\n",
      " [8 8 8 8 8 8 8 8 8 8]\n",
      " [8 8 8 8 8 8 8 8 8 8]\n",
      " [8 8 8 8 8 8 8 8 8 8]\n",
      " [8 8 8 8 8 8 8 8 8 8]\n",
      " [8 8 8 8 8 8 8 8 8 8]\n",
      " [8 8 8 8 8 8 8 8 8 8]\n",
      " [8 8 8 8 8 8 8 8 8 8]\n",
      " [8 8 8 8 8 8 8 8 8 8]\n",
      " [8 8 8 8 8 8 8 8 8 8]]\n",
      "\n",
      " The trace of this matrix is 80.\n"
     ]
    }
   ],
   "source": [
    "x3 = tf.fill([10, 10], 8)\n",
    "\n",
    "with tf.Session() as sess:\n",
    "  print(\"The matrix fill with 8 is: \\n {}\" .format(sess.run(x3)))\n",
    "  print(\"\\n The trace of this matrix is {}.\".format(sess.run(tf.trace(x3))))"
   ]
  },
  {
   "cell_type": "code",
   "execution_count": 7,
   "metadata": {
    "colab": {
     "base_uri": "https://localhost:8080/",
     "height": 50
    },
    "colab_type": "code",
    "id": "U1I2vIfAhxz_",
    "outputId": "e5b18e50-7ce6-4f39-f3ae-689571cb02cc"
   },
   "outputs": [
    {
     "name": "stdout",
     "output_type": "stream",
     "text": [
      "(10, 10)\n",
      "<dtype: 'int32'>\n"
     ]
    }
   ],
   "source": [
    "print(x3.shape)\n",
    "print(x3.dtype)"
   ]
  },
  {
   "cell_type": "code",
   "execution_count": 8,
   "metadata": {
    "colab": {
     "base_uri": "https://localhost:8080/",
     "height": 202
    },
    "colab_type": "code",
    "id": "RZRfYq5Gi6Kn",
    "outputId": "c0a93c8f-506c-4920-fc84-89345c77e2b9"
   },
   "outputs": [
    {
     "name": "stdout",
     "output_type": "stream",
     "text": [
      "The matrix of ones along the main diagonal is: \n",
      " [[1 0 0 0 0 0 0 0 0 0]\n",
      " [0 1 0 0 0 0 0 0 0 0]\n",
      " [0 0 1 0 0 0 0 0 0 0]\n",
      " [0 0 0 1 0 0 0 0 0 0]\n",
      " [0 0 0 0 1 0 0 0 0 0]\n",
      " [0 0 0 0 0 1 0 0 0 0]\n",
      " [0 0 0 0 0 0 1 0 0 0]\n",
      " [0 0 0 0 0 0 0 1 0 0]\n",
      " [0 0 0 0 0 0 0 0 1 0]\n",
      " [0 0 0 0 0 0 0 0 0 1]]\n",
      "\n",
      " The trace of this matrix is 10.\n"
     ]
    }
   ],
   "source": [
    "x4 = tf.eye(10)\n",
    "x4 = tf.to_int32(x4)\n",
    "with tf.Session() as sess:\n",
    "  print(\"The matrix of ones along the main diagonal is: \\n {}\" .format(sess.run(x4)))\n",
    "  print(\"\\n The trace of this matrix is {}.\".format(sess.run(tf.trace(x4))))"
   ]
  },
  {
   "cell_type": "code",
   "execution_count": 9,
   "metadata": {
    "colab": {
     "base_uri": "https://localhost:8080/",
     "height": 50
    },
    "colab_type": "code",
    "id": "Kyj5waD7jJM6",
    "outputId": "598e8d41-4af9-4419-d92a-1bfef494435b"
   },
   "outputs": [
    {
     "name": "stdout",
     "output_type": "stream",
     "text": [
      "(10, 10)\n",
      "<dtype: 'int32'>\n"
     ]
    }
   ],
   "source": [
    "print(x4.shape)\n",
    "print(x4.dtype)"
   ]
  },
  {
   "cell_type": "code",
   "execution_count": 10,
   "metadata": {},
   "outputs": [
    {
     "name": "stdout",
     "output_type": "stream",
     "text": [
      "create a 1-D tensor [1 2 3 4 5 6]\n",
      "\n",
      "create a 2-D tensor \n",
      " [[-5 -5 -5]\n",
      " [-5 -5 -5]\n",
      " [-5 -5 -5]]\n"
     ]
    }
   ],
   "source": [
    "# create a 1-D tensor.\n",
    "x41 = tf.constant([1, 2, 3, 4, 5, 6])\n",
    "# create a 2-D tensor.\n",
    "x42 = tf.constant(-5, shape=[3, 3])\n",
    "with tf.Session() as sess:\n",
    "  print(\"create a 1-D tensor {}\\n\".format(sess.run(x41)))\n",
    "  print(\"create a 2-D tensor \\n {}\".format(sess.run(x42)))"
   ]
  },
  {
   "cell_type": "code",
   "execution_count": 11,
   "metadata": {
    "colab": {
     "base_uri": "https://localhost:8080/",
     "height": 202
    },
    "colab_type": "code",
    "id": "TedHnjxUjprq",
    "outputId": "3f1c029c-b4cb-4bcb-9e45-eab179064664"
   },
   "outputs": [
    {
     "name": "stdout",
     "output_type": "stream",
     "text": [
      "The matrix multiplication of x3 and x4 is: \n",
      " [[8 8 8 8 8 8 8 8 8 8]\n",
      " [8 8 8 8 8 8 8 8 8 8]\n",
      " [8 8 8 8 8 8 8 8 8 8]\n",
      " [8 8 8 8 8 8 8 8 8 8]\n",
      " [8 8 8 8 8 8 8 8 8 8]\n",
      " [8 8 8 8 8 8 8 8 8 8]\n",
      " [8 8 8 8 8 8 8 8 8 8]\n",
      " [8 8 8 8 8 8 8 8 8 8]\n",
      " [8 8 8 8 8 8 8 8 8 8]\n",
      " [8 8 8 8 8 8 8 8 8 8]] \n",
      "\n",
      "The trace of this matrix is 80.\n"
     ]
    }
   ],
   "source": [
    "matmult = tf.matmul(x3, x4)\n",
    "with tf.Session() as sess:\n",
    "  print(\"The matrix multiplication of x3 and x4 is: \\n {} \\n\".format(sess.run(matmult)))\n",
    "  print(\"The trace of this matrix is {}.\".format(sess.run(tf.trace(matmult))))"
   ]
  },
  {
   "cell_type": "code",
   "execution_count": 12,
   "metadata": {
    "colab": {
     "base_uri": "https://localhost:8080/",
     "height": 67
    },
    "colab_type": "code",
    "id": "n__8cytHaPHW",
    "outputId": "ef7fa185-7f55-4f7f-8d24-016a0a419c9f"
   },
   "outputs": [
    {
     "name": "stdout",
     "output_type": "stream",
     "text": [
      "The sum of a and b is 10.\n",
      "The product of a and b is 21.\n",
      "The square of a is 9.\n"
     ]
    }
   ],
   "source": [
    "a = tf.constant(3)\n",
    "b = tf.constant(7)\n",
    "\n",
    "with tf.Session() as sess:\n",
    "  print(\"The sum of a and b is {}.\".format(sess.run(tf.add(a, b))))\n",
    "  print(\"The product of a and b is {}.\".format(sess.run(tf.multiply(a, b))))\n",
    "  print(\"The square of a is {}.\".format(sess.run(tf.square(a))))"
   ]
  },
  {
   "cell_type": "code",
   "execution_count": 13,
   "metadata": {
    "colab": {
     "base_uri": "https://localhost:8080/",
     "height": 118
    },
    "colab_type": "code",
    "id": "Bik1nZz2KQcd",
    "outputId": "5dc24534-8f02-42b9-9ad8-dfb7c1b19102"
   },
   "outputs": [
    {
     "name": "stdout",
     "output_type": "stream",
     "text": [
      "[[1 0 0 0 0 0]\n",
      " [0 2 0 0 0 0]\n",
      " [0 0 3 0 0 0]\n",
      " [0 0 0 4 0 0]\n",
      " [0 0 0 0 5 0]\n",
      " [0 0 0 0 0 6]]\n"
     ]
    }
   ],
   "source": [
    "# creating a matrix with a specified main diagonal values\n",
    "\n",
    "diagonal = [1, 2, 3, 4, 5, 6]\n",
    "x = tf.matrix_diag(diagonal = diagonal) \n",
    "\n",
    "with tf.Session() as sess:\n",
    "  print(sess.run(x))"
   ]
  },
  {
   "cell_type": "code",
   "execution_count": 14,
   "metadata": {
    "colab": {
     "base_uri": "https://localhost:8080/",
     "height": 118
    },
    "colab_type": "code",
    "id": "kQQ3t4ATIscL",
    "outputId": "af46bc81-2c26-4f10-908e-939812852048",
    "scrolled": true
   },
   "outputs": [
    {
     "name": "stdout",
     "output_type": "stream",
     "text": [
      "[[1. 0. 0. 0. 0. 0.]\n",
      " [0. 2. 0. 0. 0. 0.]\n",
      " [0. 0. 3. 0. 0. 0.]\n",
      " [0. 0. 0. 4. 0. 0.]\n",
      " [0. 0. 0. 0. 5. 0.]\n",
      " [0. 0. 0. 0. 0. 6.]]\n"
     ]
    }
   ],
   "source": [
    "# changing the values on the main diagonal of a matrix\n",
    "\n",
    "x = tf.zeros((6, 6))\n",
    "x = tf.matrix_set_diag(x, diagonal = diagonal) \n",
    "\n",
    "with tf.Session() as sess:\n",
    "  print(sess.run(x))"
   ]
  }
 ],
 "metadata": {
  "colab": {
   "name": "tensorflow_basics.ipynb",
   "provenance": [],
   "version": "0.3.2"
  },
  "kernelspec": {
   "display_name": "Python 3",
   "language": "python",
   "name": "python3"
  },
  "language_info": {
   "codemirror_mode": {
    "name": "ipython",
    "version": 3
   },
   "file_extension": ".py",
   "mimetype": "text/x-python",
   "name": "python",
   "nbconvert_exporter": "python",
   "pygments_lexer": "ipython3",
   "version": "3.5.5"
  }
 },
 "nbformat": 4,
 "nbformat_minor": 1
}
